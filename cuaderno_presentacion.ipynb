{
 "cells": [
  {
   "cell_type": "markdown",
   "id": "a03ebf22",
   "metadata": {},
   "source": [
    "# Introducción\n",
    "\n",
    "[Wikipedia](https://www.wikipedia.org/)\n",
    "\n"
   ]
  },
  {
   "cell_type": "markdown",
   "id": "9749d7e2",
   "metadata": {},
   "source": [
    "![imagen](https://oci02.img.iteso.mx/Identidades-De-Instancia/ITESO/Logos%20ITESO/Logo-ITESO-Principal.jpg)"
   ]
  },
  {
   "cell_type": "markdown",
   "id": "8b9c44f5",
   "metadata": {},
   "source": [
    "1. Primer item\n",
    "2. Segundo\n",
    "3. Tercero\n",
    "\n",
    "+ Item no numerado\n",
    "- Segundo item no numerado"
   ]
  },
  {
   "cell_type": "markdown",
   "id": "31be6cda",
   "metadata": {},
   "source": [
    "```\n",
    "import pandas as pd\n",
    "import numpy as np\n",
    "import matplotlib.pyplot as plt\n",
    "```"
   ]
  },
  {
   "cell_type": "code",
   "execution_count": null,
   "id": "7241cbd1",
   "metadata": {},
   "outputs": [],
   "source": []
  }
 ],
 "metadata": {
  "kernelspec": {
   "display_name": "Python 3 (ipykernel)",
   "language": "python",
   "name": "python3"
  },
  "language_info": {
   "codemirror_mode": {
    "name": "ipython",
    "version": 3
   },
   "file_extension": ".py",
   "mimetype": "text/x-python",
   "name": "python",
   "nbconvert_exporter": "python",
   "pygments_lexer": "ipython3",
   "version": "3.9.13"
  }
 },
 "nbformat": 4,
 "nbformat_minor": 5
}
